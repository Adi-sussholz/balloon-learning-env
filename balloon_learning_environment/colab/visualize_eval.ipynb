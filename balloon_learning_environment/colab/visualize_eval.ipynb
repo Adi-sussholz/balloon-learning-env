# Copyright 2021 The Balloon Learning Environment Authors.
#
# Licensed under the Apache License, Version 2.0 (the "License");
# you may not use this file except in compliance with the License.
# You may obtain a copy of the License at
#
#     http://www.apache.org/licenses/LICENSE-2.0
#
# Unless required by applicable law or agreed to in writing, software
# distributed under the License is distributed on an "AS IS" BASIS,
# WITHOUT WARRANTIES OR CONDITIONS OF ANY KIND, either express or implied.
# See the License for the specific language governing permissions and
# limitations under the License.

{
  "cells": [
    {
      "cell_type": "code",
      "execution_count": null,
      "metadata": {
        "cellView": "form",
        "id": "G5KpgsPiatAP"
      },
      "outputs": [],
      "source": [
        "# @title Imports\n",
        "import collections\n",
        "import json\n",
        "\n",
        "from colabtools import interactive_forms\n",
        "from google.colab import files\n",
        "import matplotlib.pyplot as plt\n",
        "import pandas as pd"
      ]
    },
    {
      "cell_type": "code",
      "execution_count": 9,
      "metadata": {
        "cellView": "form",
        "colab": {
          "height": 106
        },
        "executionInfo": {
          "elapsed": 69434,
          "status": "ok",
          "timestamp": 1626279016417,
          "user": {
            "displayName": "",
            "photoUrl": "",
            "userId": ""
          },
          "user_tz": 360
        },
        "id": "Fh7-SDDnbqD2",
        "outputId": "006ad520-bedd-4d5e-eb28-039ce80e74b0"
      },
      "outputs": [
        {
          "data": {
            "text/html": [
              "\n",
              "     \u003cinput type=\"file\" id=\"files-01b00de9-03c4-4dc7-9283-519f8af1624b\" name=\"files[]\" multiple disabled\n",
              "        style=\"border:none\" /\u003e\n",
              "     \u003coutput id=\"result-01b00de9-03c4-4dc7-9283-519f8af1624b\"\u003e\n",
              "      Upload widget is only available when the cell has been executed in the\n",
              "      current browser session. Please rerun this cell to enable.\n",
              "      \u003c/output\u003e\n",
              "      \u003cscript src=\"/nbextensions/google.colab/files.js\"\u003e\u003c/script\u003e "
            ],
            "text/plain": [
              "\u003cIPython.core.display.HTML at 0x7f3609e686d8\u003e"
            ]
          },
          "metadata": {
            "tags": []
          },
          "output_type": "display_data"
        },
        {
          "name": "stdout",
          "output_type": "stream",
          "text": [
            "Saving random.json to random (11).json\n",
            "Saving station_seeker.json to station_seeker (16).json\n"
          ]
        },
        {
          "data": {
            "application/javascript": [
              "window[\"fa616612-e4bd-11eb-9d14-4724f7652c9f\"] = sendMessageToNotebook({\"action\": \"update_param\", \"update_param_request\": {\"name\": \"model_name\", \"config\": [\"random\", \"station_seeker\"], \"value\": null, \"global\": true}});\n",
              "//# sourceURL=js_8bb51e989c"
            ],
            "text/plain": [
              "\u003cIPython.core.display.Javascript at 0x7f36096a0278\u003e"
            ]
          },
          "metadata": {
            "tags": []
          },
          "output_type": "display_data"
        },
        {
          "data": {
            "application/javascript": [
              "window[\"fa61cb84-e4bd-11eb-9d14-4724f7652c9f\"] = sendMessageToNotebook({\"action\": \"update_param\", \"update_param_request\": {\"name\": \"eval_seed\", \"config\": [0, 1, 2, 3, 4, 5, 6, 7, 8, 9, 10, 11, 12, 13, 14, 15, 16, 17, 18, 19, 20, 21, 22, 23, 24, 25, 26, 27, 28, 29, 30, 31, 32, 33, 34, 35, 36, 37, 38, 39, 40, 41, 42, 43, 44, 45, 46, 47, 48, 49, 50, 51, 52, 53, 54, 55, 56, 57, 58, 59, 60, 61, 62, 63, 64, 65, 66, 67, 68, 69, 70, 71, 72, 73, 74, 75, 76, 77, 78, 79, 80, 81, 82, 83, 84, 85, 86, 87, 88, 89, 90, 91, 92, 93, 94, 95, 96, 97, 98, 99], \"value\": null, \"global\": true}});\n",
              "//# sourceURL=js_29572571ff"
            ],
            "text/plain": [
              "\u003cIPython.core.display.Javascript at 0x7f3609e2cc18\u003e"
            ]
          },
          "metadata": {
            "tags": []
          },
          "output_type": "display_data"
        }
      ],
      "source": [
        "# @title Upload Data\n",
        "uploaded_files = files.upload()\n",
        "dataframes = dict()\n",
        "\n",
        "for name, data in uploaded_files.items():\n",
        "  name = name.rsplit('.', maxsplit=1)[0]\n",
        "  json_data = json.loads(data)\n",
        "  dataframes[name] = pd.DataFrame.from_dict(json_data)\n",
        "\n",
        "# Collect a set of all seeds.\n",
        "seeds = set()\n",
        "for df in dataframes.values():\n",
        "  seeds.update(df.seed)\n",
        "\n",
        "interactive_forms.UpdateParam(\n",
        "    'model_name', None, list(dataframes.keys()),\n",
        "    update_globally=True)\n",
        "interactive_forms.UpdateParam(\n",
        "    'eval_seed', None, list(seeds), update_globally=True)"
      ]
    },
    {
      "cell_type": "code",
      "execution_count": 10,
      "metadata": {
        "cellView": "form",
        "colab": {
          "height": 111
        },
        "executionInfo": {
          "elapsed": 59,
          "status": "ok",
          "timestamp": 1626279018323,
          "user": {
            "displayName": "",
            "photoUrl": "",
            "userId": ""
          },
          "user_tz": 360
        },
        "id": "px9v1x2cbMXQ",
        "outputId": "5c191b68-6c3b-4f97-f841-7943d6b6cc38"
      },
      "outputs": [
        {
          "data": {
            "text/html": [
              "\u003cdiv\u003e\n",
              "\u003cstyle scoped\u003e\n",
              "    .dataframe tbody tr th:only-of-type {\n",
              "        vertical-align: middle;\n",
              "    }\n",
              "\n",
              "    .dataframe tbody tr th {\n",
              "        vertical-align: top;\n",
              "    }\n",
              "\n",
              "    .dataframe thead th {\n",
              "        text-align: right;\n",
              "    }\n",
              "\u003c/style\u003e\n",
              "\u003ctable border=\"1\" class=\"dataframe\"\u003e\n",
              "  \u003cthead\u003e\n",
              "    \u003ctr style=\"text-align: right;\"\u003e\n",
              "      \u003cth\u003e\u003c/th\u003e\n",
              "      \u003cth\u003eout_of_power\u003c/th\u003e\n",
              "      \u003cth\u003emean_cumulative_reward\u003c/th\u003e\n",
              "      \u003cth\u003emean_twr\u003c/th\u003e\n",
              "    \u003c/tr\u003e\n",
              "  \u003c/thead\u003e\n",
              "  \u003ctbody\u003e\n",
              "    \u003ctr\u003e\n",
              "      \u003cth\u003erandom\u003c/th\u003e\n",
              "      \u003ctd\u003e79\u003c/td\u003e\n",
              "      \u003ctd\u003e267.848121\u003c/td\u003e\n",
              "      \u003ctd\u003e0.138194\u003c/td\u003e\n",
              "    \u003c/tr\u003e\n",
              "    \u003ctr\u003e\n",
              "      \u003cth\u003estation_seeker\u003c/th\u003e\n",
              "      \u003ctd\u003e63\u003c/td\u003e\n",
              "      \u003ctd\u003e518.184282\u003c/td\u003e\n",
              "      \u003ctd\u003e0.358727\u003c/td\u003e\n",
              "    \u003c/tr\u003e\n",
              "  \u003c/tbody\u003e\n",
              "\u003c/table\u003e\n",
              "\u003c/div\u003e"
            ],
            "text/plain": [
              "                out_of_power  mean_cumulative_reward  mean_twr\n",
              "random                    79              267.848121  0.138194\n",
              "station_seeker            63              518.184282  0.358727"
            ]
          },
          "execution_count": 10,
          "metadata": {
            "tags": []
          },
          "output_type": "execute_result"
        }
      ],
      "source": [
        "# @title Print Aggregate results\n",
        "aggregate_data = collections.defaultdict(list)\n",
        "for name, df in dataframes.items():\n",
        "  aggregate_data['out_of_power'].append(df.out_of_power.sum())\n",
        "\n",
        "  finished_runs = df.loc[df.out_of_power == False]\n",
        "  aggregate_data['mean_cumulative_reward'].append(\n",
        "      finished_runs.cumulative_reward.mean())\n",
        "  aggregate_data['mean_twr'].append(finished_runs.time_within_radius.mean())\n",
        "\n",
        "df = pd.DataFrame(aggregate_data)\n",
        "df.index = dataframes.keys()\n",
        "# TODO(joshgreaves): display(df)\n",
        "# TODO(joshgreaves): style the dataframe.\n",
        "df"
      ]
    },
    {
      "cell_type": "code",
      "execution_count": 11,
      "metadata": {
        "cellView": "form",
        "colab": {
          "height": 419
        },
        "executionInfo": {
          "elapsed": 57,
          "status": "ok",
          "timestamp": 1626279027414,
          "user": {
            "displayName": "",
            "photoUrl": "",
            "userId": ""
          },
          "user_tz": 360
        },
        "id": "SMQK0ydxVIUQ",
        "outputId": "b9d25306-3e3c-4f01-b563-4c289caea2ac"
      },
      "outputs": [
        {
          "data": {
            "text/html": [
              "\u003cdiv\u003e\n",
              "\u003cstyle scoped\u003e\n",
              "    .dataframe tbody tr th:only-of-type {\n",
              "        vertical-align: middle;\n",
              "    }\n",
              "\n",
              "    .dataframe tbody tr th {\n",
              "        vertical-align: top;\n",
              "    }\n",
              "\n",
              "    .dataframe thead th {\n",
              "        text-align: right;\n",
              "    }\n",
              "\u003c/style\u003e\n",
              "\u003ctable border=\"1\" class=\"dataframe\"\u003e\n",
              "  \u003cthead\u003e\n",
              "    \u003ctr style=\"text-align: right;\"\u003e\n",
              "      \u003cth\u003e\u003c/th\u003e\n",
              "      \u003cth\u003eseed\u003c/th\u003e\n",
              "      \u003cth\u003ecumulative_reward\u003c/th\u003e\n",
              "      \u003cth\u003etime_within_radius\u003c/th\u003e\n",
              "      \u003cth\u003eout_of_power\u003c/th\u003e\n",
              "      \u003cth\u003efinal_timestep\u003c/th\u003e\n",
              "    \u003c/tr\u003e\n",
              "  \u003c/thead\u003e\n",
              "  \u003ctbody\u003e\n",
              "    \u003ctr\u003e\n",
              "      \u003cth\u003e0\u003c/th\u003e\n",
              "      \u003ctd\u003e0\u003c/td\u003e\n",
              "      \u003ctd\u003e188.946932\u003c/td\u003e\n",
              "      \u003ctd\u003e0.000000\u003c/td\u003e\n",
              "      \u003ctd\u003eTrue\u003c/td\u003e\n",
              "      \u003ctd\u003e713\u003c/td\u003e\n",
              "    \u003c/tr\u003e\n",
              "    \u003ctr\u003e\n",
              "      \u003cth\u003e1\u003c/th\u003e\n",
              "      \u003ctd\u003e1\u003c/td\u003e\n",
              "      \u003ctd\u003e221.764105\u003c/td\u003e\n",
              "      \u003ctd\u003e0.133884\u003c/td\u003e\n",
              "      \u003ctd\u003eTrue\u003c/td\u003e\n",
              "      \u003ctd\u003e605\u003c/td\u003e\n",
              "    \u003c/tr\u003e\n",
              "    \u003ctr\u003e\n",
              "      \u003cth\u003e2\u003c/th\u003e\n",
              "      \u003ctd\u003e2\u003c/td\u003e\n",
              "      \u003ctd\u003e170.006604\u003c/td\u003e\n",
              "      \u003ctd\u003e0.319648\u003c/td\u003e\n",
              "      \u003ctd\u003eTrue\u003c/td\u003e\n",
              "      \u003ctd\u003e341\u003c/td\u003e\n",
              "    \u003c/tr\u003e\n",
              "    \u003ctr\u003e\n",
              "      \u003cth\u003e3\u003c/th\u003e\n",
              "      \u003ctd\u003e3\u003c/td\u003e\n",
              "      \u003ctd\u003e694.349746\u003c/td\u003e\n",
              "      \u003ctd\u003e0.551042\u003c/td\u003e\n",
              "      \u003ctd\u003eFalse\u003c/td\u003e\n",
              "      \u003ctd\u003e960\u003c/td\u003e\n",
              "    \u003c/tr\u003e\n",
              "    \u003ctr\u003e\n",
              "      \u003cth\u003e4\u003c/th\u003e\n",
              "      \u003ctd\u003e4\u003c/td\u003e\n",
              "      \u003ctd\u003e84.817518\u003c/td\u003e\n",
              "      \u003ctd\u003e0.000000\u003c/td\u003e\n",
              "      \u003ctd\u003eTrue\u003c/td\u003e\n",
              "      \u003ctd\u003e588\u003c/td\u003e\n",
              "    \u003c/tr\u003e\n",
              "    \u003ctr\u003e\n",
              "      \u003cth\u003e...\u003c/th\u003e\n",
              "      \u003ctd\u003e...\u003c/td\u003e\n",
              "      \u003ctd\u003e...\u003c/td\u003e\n",
              "      \u003ctd\u003e...\u003c/td\u003e\n",
              "      \u003ctd\u003e...\u003c/td\u003e\n",
              "      \u003ctd\u003e...\u003c/td\u003e\n",
              "    \u003c/tr\u003e\n",
              "    \u003ctr\u003e\n",
              "      \u003cth\u003e95\u003c/th\u003e\n",
              "      \u003ctd\u003e95\u003c/td\u003e\n",
              "      \u003ctd\u003e205.382346\u003c/td\u003e\n",
              "      \u003ctd\u003e0.120787\u003c/td\u003e\n",
              "      \u003ctd\u003eTrue\u003c/td\u003e\n",
              "      \u003ctd\u003e712\u003c/td\u003e\n",
              "    \u003c/tr\u003e\n",
              "    \u003ctr\u003e\n",
              "      \u003cth\u003e96\u003c/th\u003e\n",
              "      \u003ctd\u003e96\u003c/td\u003e\n",
              "      \u003ctd\u003e779.214957\u003c/td\u003e\n",
              "      \u003ctd\u003e0.704167\u003c/td\u003e\n",
              "      \u003ctd\u003eFalse\u003c/td\u003e\n",
              "      \u003ctd\u003e960\u003c/td\u003e\n",
              "    \u003c/tr\u003e\n",
              "    \u003ctr\u003e\n",
              "      \u003cth\u003e97\u003c/th\u003e\n",
              "      \u003ctd\u003e97\u003c/td\u003e\n",
              "      \u003ctd\u003e535.114444\u003c/td\u003e\n",
              "      \u003ctd\u003e0.286458\u003c/td\u003e\n",
              "      \u003ctd\u003eFalse\u003c/td\u003e\n",
              "      \u003ctd\u003e960\u003c/td\u003e\n",
              "    \u003c/tr\u003e\n",
              "    \u003ctr\u003e\n",
              "      \u003cth\u003e98\u003c/th\u003e\n",
              "      \u003ctd\u003e98\u003c/td\u003e\n",
              "      \u003ctd\u003e75.046243\u003c/td\u003e\n",
              "      \u003ctd\u003e0.000000\u003c/td\u003e\n",
              "      \u003ctd\u003eTrue\u003c/td\u003e\n",
              "      \u003ctd\u003e353\u003c/td\u003e\n",
              "    \u003c/tr\u003e\n",
              "    \u003ctr\u003e\n",
              "      \u003cth\u003e99\u003c/th\u003e\n",
              "      \u003ctd\u003e99\u003c/td\u003e\n",
              "      \u003ctd\u003e63.267400\u003c/td\u003e\n",
              "      \u003ctd\u003e0.000000\u003c/td\u003e\n",
              "      \u003ctd\u003eTrue\u003c/td\u003e\n",
              "      \u003ctd\u003e288\u003c/td\u003e\n",
              "    \u003c/tr\u003e\n",
              "  \u003c/tbody\u003e\n",
              "\u003c/table\u003e\n",
              "\u003cp\u003e100 rows × 5 columns\u003c/p\u003e\n",
              "\u003c/div\u003e"
            ],
            "text/plain": [
              "    seed  cumulative_reward  time_within_radius  out_of_power  final_timestep\n",
              "0      0         188.946932            0.000000          True             713\n",
              "1      1         221.764105            0.133884          True             605\n",
              "2      2         170.006604            0.319648          True             341\n",
              "3      3         694.349746            0.551042         False             960\n",
              "4      4          84.817518            0.000000          True             588\n",
              "..   ...                ...                 ...           ...             ...\n",
              "95    95         205.382346            0.120787          True             712\n",
              "96    96         779.214957            0.704167         False             960\n",
              "97    97         535.114444            0.286458         False             960\n",
              "98    98          75.046243            0.000000          True             353\n",
              "99    99          63.267400            0.000000          True             288\n",
              "\n",
              "[100 rows x 5 columns]"
            ]
          },
          "execution_count": 11,
          "metadata": {
            "tags": []
          },
          "output_type": "execute_result"
        }
      ],
      "source": [
        "# @title Print Individual Run Results\n",
        "model_name = 'station_seeker'  # @param [\"\"]\n",
        "\n",
        "# It is not useful to see the flight path in this format, so drop it.\n",
        "df = dataframes[model_name].drop('flight_path', axis='columns')\n",
        "df"
      ]
    },
    {
      "cell_type": "code",
      "execution_count": 12,
      "metadata": {
        "cellView": "form",
        "colab": {
          "height": 350
        },
        "executionInfo": {
          "elapsed": 339,
          "status": "ok",
          "timestamp": 1626279032309,
          "user": {
            "displayName": "",
            "photoUrl": "",
            "userId": ""
          },
          "user_tz": 360
        },
        "id": "aOfy5H64bgTx",
        "outputId": "8cc5c4eb-6c1d-4e89-e6d6-d4ff77ded6e8"
      },
      "outputs": [
        {
          "data": {
            "image/png": "[encoded data removed]",
            "text/plain": [
              "\u003cFigure size 800x500 with 1 Axes\u003e"
            ]
          },
          "metadata": {
            "tags": []
          },
          "output_type": "display_data"
        }
      ],
      "source": [
        "# @title Visualize TWR\n",
        "model_name = 'station_seeker'  # @param [\"\"]\n",
        "df = dataframes[model_name]\n",
        "df = df.loc[df.out_of_power == False]  # Removes failed flights.\n",
        "\n",
        "fig, ax = plt.subplots(figsize=(8, 5))\n",
        "ax.hist(df.time_within_radius, density=True)\n",
        "ax.set_title(f'{model_name} Time Within Radius')\n",
        "ax.set_xlabel('TWR')\n",
        "ax.set_ylabel('Density')\n",
        "fig.show()"
      ]
    },
    {
      "cell_type": "code",
      "execution_count": 17,
      "metadata": {
        "cellView": "form",
        "colab": {
          "height": 499
        },
        "executionInfo": {
          "elapsed": 621,
          "status": "ok",
          "timestamp": 1626279065811,
          "user": {
            "displayName": "",
            "photoUrl": "",
            "userId": ""
          },
          "user_tz": 360
        },
        "id": "c7xOd7pTsukD",
        "outputId": "b44d501e-ff2f-4756-f415-94bd68cde33f"
      },
      "outputs": [
        {
          "data": {
            "image/png": "[encoded data removed]",
            "text/plain": [
              "\u003cFigure size 800x800 with 1 Axes\u003e"
            ]
          },
          "metadata": {
            "tags": []
          },
          "output_type": "display_data"
        }
      ],
      "source": [
        "# @title Visualize Flight Paths\n",
        "eval_seed = \"33\"  # @param [\"\"]\n",
        "\n",
        "fig, ax = plt.subplots(figsize=(8, 8))\n",
        "ax.add_patch(plt.Circle((0, 0), 50_000, color='blue', fill=False))\n",
        "\n",
        "for model_name, df in dataframes.items():\n",
        "  row = df.loc[df.seed == int(eval_seed)]\n",
        "  assert len(row.index) == 1, 'The seed was found more than once.'\n",
        "\n",
        "  flight_path = row.iloc[0].flight_path\n",
        "  xs = [point['x'] for point in flight_path]\n",
        "  ys = [point['y'] for point in flight_path]\n",
        "\n",
        "  out_of_power = row.iloc[0].out_of_power\n",
        "\n",
        "  ax.plot(xs, ys, linewidth=2, label=model_name)\n",
        "  plt.scatter(xs[-1], ys[-1], marker='x' if out_of_power else 'o')\n",
        "  ax.set_xlim(-250_000, 250_000)\n",
        "  ax.set_ylim(-250_000, 250_000)\n",
        "\n",
        "ax.legend()\n",
        "ax.set_title(f'Flight Paths (Seed {eval_seed})')\n",
        "fig.show()"
      ]
    }
  ],
  "metadata": {
    "colab": {
      "collapsed_sections": [],
      "last_runtime": {
        "build_target": "//learning/deepmind/public/tools/ml_python:ml_notebook",
        "kind": "private"
      },
      "name": "Visualize Eval",
      "provenance": [
        {
          "file_id": "1_60zbZ10JsNMfLw-RAmCKQ11SJNGc3wx",
          "timestamp": 1626121962893
        }
      ]
    },
    "kernelspec": {
      "display_name": "Python 3",
      "name": "python3"
    },
    "language_info": {
      "name": "python"
    }
  },
  "nbformat": 4,
  "nbformat_minor": 0
}
